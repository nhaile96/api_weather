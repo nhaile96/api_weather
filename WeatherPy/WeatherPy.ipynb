{
 "cells": [
  {
   "cell_type": "markdown",
   "metadata": {},
   "source": [
    "# WeatherPy\n",
    "----\n",
    "\n",
    "#### Note\n",
    "* Instructions have been included for each segment. You do not have to follow them exactly, but they are included to help you think through the steps."
   ]
  },
  {
   "cell_type": "code",
   "execution_count": 39,
   "metadata": {
    "scrolled": true
   },
   "outputs": [],
   "source": [
    "import pandas as pd\n",
    "import requests\n",
    "import json\n",
    "from api_keys import weather_api_key\n",
    "import matplotlib.pyplot as plt\n",
    "import numpy as np\n",
    "from citipy import citipy\n",
    "import json\n",
    "import scipy.stats as st\n",
    "from scipy.stats import linregress\n",
    "\n",
    "\n",
    "cities_data=\"../Resources/cities.csv\"\n",
    "\n",
    "lat_range=(-90,90)\n",
    "lng_range=(-180,180)"
   ]
  },
  {
   "cell_type": "markdown",
   "metadata": {},
   "source": [
    "## Generate Cities List"
   ]
  },
  {
   "cell_type": "code",
   "execution_count": 3,
   "metadata": {},
   "outputs": [
    {
     "name": "stdout",
     "output_type": "stream",
     "text": [
      "619\n"
     ]
    }
   ],
   "source": [
    "#create lists to hold lattitude and longitude coordiantes\n",
    "lat_lng=[]\n",
    "cities=[]\n",
    "\n",
    "#create locked tuple of latitude and longitude coordinates based on the range\n",
    "lattitude=np.random.uniform(lat_range[0],lat_range[1],size=1500)\n",
    "longitude=np.random.uniform(lng_range[0],lng_range[1],size=1500)\n",
    "\n",
    "lats_and_lngs=zip(lattitude,longitude)\n",
    "\n",
    "for n in lats_and_lngs:\n",
    "    city=citipy.nearest_city(n[0],n[1]).city_name\n",
    "    \n",
    "    if city not in cities:\n",
    "        cities.append(city)\n",
    "        \n",
    "print(len(cities))\n"
   ]
  },
  {
   "cell_type": "code",
   "execution_count": 4,
   "metadata": {},
   "outputs": [],
   "source": [
    "#create lists for variables to be created in new df\n",
    "city_list=[]\n",
    "temp_max=[]\n",
    "hum=[]\n",
    "cld=[]\n",
    "wnd=[]\n",
    "latt=[]\n",
    "lng=[]\n",
    "country=[]\n",
    "date=[]\n",
    "\n",
    "#initialize counter\n",
    "\n",
    "units=\"imperial\"\n",
    "url=f\"http://api.openweathermap.org/data/2.5/weather?appid={weather_api_key}&units={units}&q=\""
   ]
  },
  {
   "cell_type": "markdown",
   "metadata": {},
   "source": [
    "### Perform API Calls\n",
    "* Perform a weather check on each city using a series of successive API calls.\n",
    "* Include a print log of each city as it'sbeing processed (with the city number and city name).\n"
   ]
  },
  {
   "cell_type": "code",
   "execution_count": 5,
   "metadata": {
    "scrolled": true
   },
   "outputs": [
    {
     "name": "stdout",
     "output_type": "stream",
     "text": [
      "Initial Data Retrieval\n",
      "-----------------------\n",
      "Processing Record 1 of Set 1 : jamestown\n",
      "City not found. Skipping...\n",
      "Processing Record 2 of Set 1 : barrow\n",
      "Processing Record 3 of Set 1 : puerto ayora\n",
      "City not found. Skipping...\n",
      "Processing Record 4 of Set 1 : alyangula\n",
      "Processing Record 5 of Set 1 : tonota\n",
      "City not found. Skipping...\n",
      "Processing Record 6 of Set 1 : castro\n",
      "Processing Record 7 of Set 1 : new norfolk\n",
      "Processing Record 8 of Set 1 : boysun\n",
      "Processing Record 9 of Set 1 : ushuaia\n",
      "Processing Record 10 of Set 1 : bluff\n",
      "Processing Record 11 of Set 1 : wanning\n",
      "Processing Record 12 of Set 1 : nisia floresta\n",
      "Processing Record 13 of Set 1 : bathsheba\n",
      "Processing Record 14 of Set 1 : nola\n",
      "Processing Record 15 of Set 1 : severo-kurilsk\n",
      "City not found. Skipping...\n",
      "Processing Record 16 of Set 1 : mar del plata\n",
      "Processing Record 17 of Set 1 : tiksi\n",
      "Processing Record 18 of Set 1 : hermanus\n",
      "Processing Record 19 of Set 1 : faanui\n",
      "Processing Record 20 of Set 1 : vardo\n",
      "Processing Record 21 of Set 1 : rikitea\n",
      "Processing Record 22 of Set 1 : port alfred\n",
      "City not found. Skipping...\n",
      "Processing Record 23 of Set 1 : narsaq\n",
      "Processing Record 24 of Set 1 : cabo san lucas\n",
      "Processing Record 25 of Set 1 : bredasdorp\n",
      "Processing Record 26 of Set 1 : buala\n",
      "Processing Record 27 of Set 1 : channel-port aux basques\n",
      "Processing Record 28 of Set 1 : bengkulu\n",
      "City not found. Skipping...\n",
      "Processing Record 29 of Set 1 : saint-philippe\n",
      "Processing Record 30 of Set 1 : spearfish\n",
      "Processing Record 31 of Set 1 : kapaa\n",
      "Processing Record 32 of Set 1 : saint george\n",
      "Processing Record 33 of Set 1 : chuy\n",
      "Processing Record 34 of Set 1 : awbari\n",
      "Processing Record 35 of Set 1 : mayo\n",
      "Processing Record 36 of Set 1 : abu dhabi\n",
      "Processing Record 37 of Set 1 : somerset\n",
      "Processing Record 38 of Set 1 : esperance\n",
      "Processing Record 39 of Set 1 : victoria\n",
      "Processing Record 40 of Set 1 : cape town\n",
      "Processing Record 41 of Set 1 : kodiak\n",
      "Processing Record 42 of Set 1 : mataura\n",
      "Processing Record 43 of Set 1 : albany\n",
      "Processing Record 44 of Set 1 : brodick\n",
      "Processing Record 45 of Set 1 : kattivakkam\n",
      "Processing Record 46 of Set 1 : berlevag\n",
      "Processing Record 47 of Set 1 : cidreira\n",
      "Processing Record 48 of Set 1 : atuona\n",
      "Processing Record 49 of Set 1 : punta arenas\n",
      "Processing Record 50 of Set 1 : lagoa\n",
      "Processing Record 0 of Set 2 : nikolskoye\n",
      "Processing Record 1 of Set 2 : ribeira grande\n",
      "Processing Record 2 of Set 2 : iracoubo\n",
      "Processing Record 3 of Set 2 : jipijapa\n",
      "Processing Record 4 of Set 2 : fortuna\n",
      "Processing Record 5 of Set 2 : dingle\n",
      "Processing Record 6 of Set 2 : kribi\n",
      "Processing Record 7 of Set 2 : san rafael\n",
      "Processing Record 8 of Set 2 : mount gambier\n",
      "Processing Record 9 of Set 2 : torbay\n",
      "Processing Record 10 of Set 2 : ostrovnoy\n",
      "Processing Record 11 of Set 2 : denpasar\n",
      "Processing Record 12 of Set 2 : beroroha\n",
      "City not found. Skipping...\n",
      "Processing Record 13 of Set 2 : sao joao da barra\n",
      "Processing Record 14 of Set 2 : phonhong\n",
      "City not found. Skipping...\n",
      "Processing Record 15 of Set 2 : east london\n",
      "Processing Record 16 of Set 2 : rongcheng\n",
      "Processing Record 17 of Set 2 : butaritari\n",
      "Processing Record 18 of Set 2 : dwarka\n",
      "Processing Record 19 of Set 2 : yellowknife\n",
      "Processing Record 20 of Set 2 : emerald\n",
      "Processing Record 21 of Set 2 : arraial do cabo\n",
      "Processing Record 22 of Set 2 : hilo\n",
      "Processing Record 23 of Set 2 : constantine\n",
      "Processing Record 24 of Set 2 : aripuana\n",
      "Processing Record 25 of Set 2 : capao da canoa\n",
      "Processing Record 26 of Set 2 : zhigansk\n",
      "Processing Record 27 of Set 2 : sola\n",
      "Processing Record 28 of Set 2 : mogzon\n",
      "Processing Record 29 of Set 2 : yangambi\n",
      "Processing Record 30 of Set 2 : thompson\n",
      "Processing Record 31 of Set 2 : cockburn town\n",
      "Processing Record 32 of Set 2 : choma\n",
      "Processing Record 33 of Set 2 : tuatapere\n",
      "Processing Record 34 of Set 2 : kaitangata\n",
      "Processing Record 35 of Set 2 : lebu\n",
      "Processing Record 36 of Set 2 : lata\n",
      "Processing Record 37 of Set 2 : kloulklubed\n",
      "Processing Record 38 of Set 2 : santiago del estero\n",
      "Processing Record 39 of Set 2 : vestmannaeyjar\n",
      "Processing Record 40 of Set 2 : maragogi\n",
      "Processing Record 41 of Set 2 : hithadhoo\n",
      "City not found. Skipping...\n",
      "Processing Record 42 of Set 2 : leh\n",
      "Processing Record 43 of Set 2 : sidney\n",
      "Processing Record 44 of Set 2 : kroya\n",
      "Processing Record 45 of Set 2 : vaini\n",
      "Processing Record 46 of Set 2 : vanavara\n",
      "Processing Record 47 of Set 2 : lavrentiya\n",
      "Processing Record 48 of Set 2 : oleksandrivka\n",
      "Processing Record 49 of Set 2 : big rapids\n",
      "Processing Record 50 of Set 2 : whitley bay\n",
      "Processing Record 0 of Set 3 : ahipara\n",
      "Processing Record 1 of Set 3 : ossora\n",
      "Processing Record 2 of Set 3 : ichnya\n",
      "Processing Record 3 of Set 3 : huilong\n",
      "City not found. Skipping...\n",
      "Processing Record 4 of Set 3 : jinchang\n",
      "Processing Record 5 of Set 3 : broken hill\n",
      "Processing Record 6 of Set 3 : palmer\n",
      "Processing Record 7 of Set 3 : adeje\n",
      "Processing Record 8 of Set 3 : benguela\n",
      "Processing Record 9 of Set 3 : richards bay\n",
      "Processing Record 10 of Set 3 : aklavik\n",
      "Processing Record 11 of Set 3 : mao\n",
      "Processing Record 12 of Set 3 : saskylakh\n",
      "Processing Record 13 of Set 3 : talnakh\n",
      "Processing Record 14 of Set 3 : georgetown\n",
      "Processing Record 15 of Set 3 : iqaluit\n",
      "Processing Record 16 of Set 3 : dikson\n",
      "Processing Record 17 of Set 3 : hamilton\n",
      "Processing Record 18 of Set 3 : kambove\n",
      "Processing Record 19 of Set 3 : chokurdakh\n",
      "City not found. Skipping...\n",
      "Processing Record 20 of Set 3 : barguzin\n",
      "Processing Record 21 of Set 3 : norman wells\n",
      "Processing Record 22 of Set 3 : half moon bay\n",
      "Processing Record 23 of Set 3 : odienne\n",
      "Processing Record 24 of Set 3 : tuktoyaktuk\n",
      "Processing Record 25 of Set 3 : alofi\n",
      "City not found. Skipping...\n",
      "Processing Record 26 of Set 3 : surt\n",
      "Processing Record 27 of Set 3 : itoman\n",
      "Processing Record 28 of Set 3 : labuhan\n",
      "Processing Record 29 of Set 3 : mabaruma\n",
      "Processing Record 30 of Set 3 : clyde river\n",
      "Processing Record 31 of Set 3 : hualmay\n",
      "Processing Record 32 of Set 3 : saldanha\n",
      "Processing Record 33 of Set 3 : romitan\n",
      "Processing Record 34 of Set 3 : mahdalynivka\n",
      "Processing Record 35 of Set 3 : biak\n",
      "Processing Record 36 of Set 3 : port elizabeth\n",
      "Processing Record 37 of Set 3 : naze\n",
      "Processing Record 38 of Set 3 : ruteng\n",
      "Processing Record 39 of Set 3 : guerrero negro\n",
      "Processing Record 40 of Set 3 : turukhansk\n",
      "Processing Record 41 of Set 3 : cherskiy\n",
      "Processing Record 42 of Set 3 : whitehorse\n",
      "City not found. Skipping...\n",
      "Processing Record 43 of Set 3 : laguna\n",
      "Processing Record 44 of Set 3 : maniitsoq\n",
      "Processing Record 45 of Set 3 : miyako\n",
      "Processing Record 46 of Set 3 : hobart\n",
      "Processing Record 47 of Set 3 : les cayes\n",
      "Processing Record 48 of Set 3 : salta\n",
      "Processing Record 49 of Set 3 : jizan\n",
      "Processing Record 50 of Set 3 : novikovo\n",
      "Processing Record 0 of Set 4 : san joaquin\n",
      "Processing Record 1 of Set 4 : kapoeta\n",
      "Processing Record 2 of Set 4 : sompeta\n",
      "Processing Record 3 of Set 4 : meulaboh\n",
      "Processing Record 4 of Set 4 : the pas\n",
      "Processing Record 5 of Set 4 : sasovo\n",
      "Processing Record 6 of Set 4 : deltona\n",
      "Processing Record 7 of Set 4 : flers\n",
      "Processing Record 8 of Set 4 : weligama\n",
      "Processing Record 9 of Set 4 : sambava\n",
      "Processing Record 10 of Set 4 : adjumani\n",
      "Processing Record 11 of Set 4 : aldan\n",
      "City not found. Skipping...\n",
      "City not found. Skipping...\n",
      "Processing Record 12 of Set 4 : bowen\n",
      "Processing Record 13 of Set 4 : namibe\n",
      "Processing Record 14 of Set 4 : torrington\n",
      "Processing Record 15 of Set 4 : raymond terrace\n",
      "Processing Record 16 of Set 4 : bandarbeyla\n",
      "Processing Record 17 of Set 4 : khakhea\n",
      "Processing Record 18 of Set 4 : longyearbyen\n",
      "Processing Record 19 of Set 4 : fort-shevchenko\n",
      "Processing Record 20 of Set 4 : qaanaaq\n",
      "Processing Record 21 of Set 4 : chumikan\n",
      "Processing Record 22 of Set 4 : mahebourg\n",
      "Processing Record 23 of Set 4 : coihaique\n",
      "Processing Record 24 of Set 4 : busselton\n",
      "Processing Record 25 of Set 4 : carballo\n",
      "City not found. Skipping...\n",
      "Processing Record 26 of Set 4 : ladispoli\n",
      "Processing Record 27 of Set 4 : sakaiminato\n",
      "Processing Record 28 of Set 4 : provideniya\n",
      "Processing Record 29 of Set 4 : houston\n",
      "Processing Record 30 of Set 4 : south lake tahoe\n",
      "Processing Record 31 of Set 4 : khao yoi\n",
      "Processing Record 32 of Set 4 : mitu\n",
      "Processing Record 33 of Set 4 : flinders\n",
      "Processing Record 34 of Set 4 : rio gallegos\n"
     ]
    },
    {
     "name": "stdout",
     "output_type": "stream",
     "text": [
      "Processing Record 35 of Set 4 : kasulu\n",
      "Processing Record 36 of Set 4 : luderitz\n",
      "Processing Record 37 of Set 4 : dakar\n",
      "Processing Record 38 of Set 4 : jasper\n",
      "Processing Record 39 of Set 4 : nemuro\n",
      "Processing Record 40 of Set 4 : kavieng\n",
      "Processing Record 41 of Set 4 : abu samrah\n",
      "Processing Record 42 of Set 4 : avarua\n",
      "Processing Record 43 of Set 4 : sisimiut\n",
      "City not found. Skipping...\n",
      "Processing Record 44 of Set 4 : road town\n",
      "Processing Record 45 of Set 4 : bela vista\n",
      "City not found. Skipping...\n",
      "Processing Record 46 of Set 4 : kysyl-syr\n",
      "Processing Record 47 of Set 4 : maumere\n",
      "Processing Record 48 of Set 4 : gorin\n",
      "Processing Record 49 of Set 4 : port-cartier\n",
      "Processing Record 50 of Set 4 : tiarei\n",
      "Processing Record 0 of Set 5 : san quintin\n",
      "Processing Record 1 of Set 5 : sibolga\n",
      "Processing Record 2 of Set 5 : leningradskiy\n",
      "Processing Record 3 of Set 5 : bilma\n",
      "Processing Record 4 of Set 5 : college\n",
      "Processing Record 5 of Set 5 : portland\n",
      "Processing Record 6 of Set 5 : sioux lookout\n",
      "Processing Record 7 of Set 5 : llano de piedra\n",
      "Processing Record 8 of Set 5 : raahe\n",
      "Processing Record 9 of Set 5 : helena\n",
      "Processing Record 10 of Set 5 : asyut\n",
      "Processing Record 11 of Set 5 : khatanga\n",
      "Processing Record 12 of Set 5 : moree\n",
      "Processing Record 13 of Set 5 : acandi\n",
      "Processing Record 14 of Set 5 : jishu\n",
      "Processing Record 15 of Set 5 : biasca\n",
      "Processing Record 16 of Set 5 : ulcinj\n",
      "Processing Record 17 of Set 5 : pisco\n",
      "Processing Record 18 of Set 5 : kyra\n",
      "Processing Record 19 of Set 5 : dodge city\n",
      "Processing Record 20 of Set 5 : pevek\n",
      "Processing Record 21 of Set 5 : bethel\n",
      "Processing Record 22 of Set 5 : evensk\n",
      "City not found. Skipping...\n",
      "Processing Record 23 of Set 5 : constitucion\n",
      "Processing Record 24 of Set 5 : fallon\n",
      "Processing Record 25 of Set 5 : rawson\n",
      "Processing Record 26 of Set 5 : dickinson\n",
      "Processing Record 27 of Set 5 : tasiilaq\n",
      "Processing Record 28 of Set 5 : tessalit\n",
      "Processing Record 29 of Set 5 : kupang\n",
      "Processing Record 30 of Set 5 : namatanai\n",
      "Processing Record 31 of Set 5 : carnarvon\n",
      "Processing Record 32 of Set 5 : kaeo\n",
      "Processing Record 33 of Set 5 : kailua\n",
      "Processing Record 34 of Set 5 : buraydah\n",
      "Processing Record 35 of Set 5 : valle de allende\n",
      "Processing Record 36 of Set 5 : pacific grove\n",
      "Processing Record 37 of Set 5 : sao filipe\n",
      "Processing Record 38 of Set 5 : ixtapa\n",
      "City not found. Skipping...\n",
      "Processing Record 39 of Set 5 : sayyan\n",
      "Processing Record 40 of Set 5 : nouadhibou\n",
      "Processing Record 41 of Set 5 : caravelas\n",
      "Processing Record 42 of Set 5 : bansi\n",
      "Processing Record 43 of Set 5 : bambous virieux\n",
      "Processing Record 44 of Set 5 : kashi\n",
      "Processing Record 45 of Set 5 : griffith\n",
      "Processing Record 46 of Set 5 : mae hong son\n",
      "Processing Record 47 of Set 5 : olafsvik\n",
      "Processing Record 48 of Set 5 : jaicos\n",
      "Processing Record 49 of Set 5 : rio grande\n",
      "Processing Record 50 of Set 5 : thunder bay\n",
      "Processing Record 0 of Set 6 : pavlodar\n",
      "Processing Record 1 of Set 6 : ponta do sol\n",
      "Processing Record 2 of Set 6 : port hardy\n",
      "Processing Record 3 of Set 6 : freeport\n",
      "Processing Record 4 of Set 6 : ouadda\n",
      "City not found. Skipping...\n",
      "Processing Record 5 of Set 6 : uchiza\n",
      "Processing Record 6 of Set 6 : luocheng\n",
      "Processing Record 7 of Set 6 : hay river\n",
      "Processing Record 8 of Set 6 : quatre cocos\n",
      "Processing Record 9 of Set 6 : kimberley\n",
      "Processing Record 10 of Set 6 : la palma\n",
      "Processing Record 11 of Set 6 : khani\n",
      "Processing Record 12 of Set 6 : kinkala\n",
      "Processing Record 13 of Set 6 : karratha\n",
      "Processing Record 14 of Set 6 : mahibadhoo\n",
      "Processing Record 15 of Set 6 : padang\n",
      "Processing Record 16 of Set 6 : nome\n",
      "City not found. Skipping...\n",
      "Processing Record 17 of Set 6 : yulara\n",
      "Processing Record 18 of Set 6 : neuquen\n",
      "Processing Record 19 of Set 6 : wajima\n",
      "Processing Record 20 of Set 6 : nioro\n",
      "Processing Record 21 of Set 6 : kindu\n",
      "Processing Record 22 of Set 6 : ilhabela\n",
      "City not found. Skipping...\n",
      "Processing Record 23 of Set 6 : souillac\n",
      "Processing Record 24 of Set 6 : macau\n",
      "Processing Record 25 of Set 6 : lorengau\n",
      "Processing Record 26 of Set 6 : oranjestad\n",
      "Processing Record 27 of Set 6 : cap malheureux\n",
      "Processing Record 28 of Set 6 : luena\n",
      "Processing Record 29 of Set 6 : kruisfontein\n",
      "City not found. Skipping...\n",
      "Processing Record 30 of Set 6 : virbalis\n",
      "Processing Record 31 of Set 6 : alot\n",
      "Processing Record 32 of Set 6 : lompoc\n",
      "Processing Record 33 of Set 6 : mungwi\n",
      "Processing Record 34 of Set 6 : henderson\n",
      "Processing Record 35 of Set 6 : houma\n",
      "Processing Record 36 of Set 6 : monrovia\n",
      "Processing Record 37 of Set 6 : simoes\n",
      "City not found. Skipping...\n",
      "Processing Record 38 of Set 6 : gweta\n",
      "Processing Record 39 of Set 6 : semnan\n",
      "Processing Record 40 of Set 6 : huarmey\n",
      "City not found. Skipping...\n",
      "Processing Record 41 of Set 6 : nueva gorgona\n",
      "Processing Record 42 of Set 6 : panzhihua\n",
      "Processing Record 43 of Set 6 : ust-kuyga\n",
      "Processing Record 44 of Set 6 : hirara\n",
      "Processing Record 45 of Set 6 : xining\n",
      "Processing Record 46 of Set 6 : fereydun kenar\n",
      "Processing Record 47 of Set 6 : san carlos de bariloche\n",
      "Processing Record 48 of Set 6 : bathurst\n",
      "Processing Record 49 of Set 6 : machico\n",
      "City not found. Skipping...\n",
      "Processing Record 50 of Set 6 : nuuk\n",
      "Processing Record 0 of Set 7 : moron\n",
      "Processing Record 1 of Set 7 : sitka\n",
      "Processing Record 2 of Set 7 : hofn\n",
      "Processing Record 3 of Set 7 : upernavik\n",
      "Processing Record 4 of Set 7 : chicama\n",
      "Processing Record 5 of Set 7 : nelson bay\n",
      "Processing Record 6 of Set 7 : athabasca\n",
      "Processing Record 7 of Set 7 : primero de enero\n",
      "Processing Record 8 of Set 7 : airai\n",
      "Processing Record 9 of Set 7 : brus laguna\n",
      "Processing Record 10 of Set 7 : port lincoln\n",
      "Processing Record 11 of Set 7 : santa lucia\n",
      "Processing Record 12 of Set 7 : lashio\n",
      "Processing Record 13 of Set 7 : chanderi\n",
      "Processing Record 14 of Set 7 : pundaguitan\n",
      "Processing Record 15 of Set 7 : soe\n",
      "Processing Record 16 of Set 7 : malm\n",
      "Processing Record 17 of Set 7 : san juan\n",
      "Processing Record 18 of Set 7 : hervey bay\n",
      "Processing Record 19 of Set 7 : mataram\n",
      "Processing Record 20 of Set 7 : riyadh\n",
      "Processing Record 21 of Set 7 : colac\n",
      "Processing Record 22 of Set 7 : effium\n",
      "City not found. Skipping...\n",
      "City not found. Skipping...\n",
      "Processing Record 23 of Set 7 : nanortalik\n",
      "Processing Record 24 of Set 7 : nador\n",
      "City not found. Skipping...\n",
      "Processing Record 25 of Set 7 : acapulco\n",
      "Processing Record 26 of Set 7 : neyshabur\n",
      "Processing Record 27 of Set 7 : camana\n",
      "Processing Record 28 of Set 7 : cullman\n",
      "Processing Record 29 of Set 7 : dubbo\n",
      "Processing Record 30 of Set 7 : san ramon\n",
      "Processing Record 31 of Set 7 : plouzane\n",
      "Processing Record 32 of Set 7 : donegal\n",
      "Processing Record 33 of Set 7 : valleyview\n",
      "Processing Record 34 of Set 7 : el alto\n",
      "Processing Record 35 of Set 7 : kayseri\n",
      "Processing Record 36 of Set 7 : erzin\n",
      "Processing Record 37 of Set 7 : verkhnevilyuysk\n",
      "City not found. Skipping...\n",
      "Processing Record 38 of Set 7 : victor harbor\n",
      "Processing Record 39 of Set 7 : maningrida\n",
      "City not found. Skipping...\n",
      "City not found. Skipping...\n",
      "Processing Record 40 of Set 7 : san miguel\n",
      "Processing Record 41 of Set 7 : milkovo\n",
      "Processing Record 42 of Set 7 : aranos\n",
      "Processing Record 43 of Set 7 : sungaipenuh\n",
      "Processing Record 44 of Set 7 : kardamas\n",
      "Processing Record 45 of Set 7 : antofagasta\n",
      "Processing Record 46 of Set 7 : san patricio\n",
      "Processing Record 47 of Set 7 : beberibe\n",
      "Processing Record 48 of Set 7 : hambantota\n",
      "Processing Record 49 of Set 7 : noumea\n",
      "Processing Record 50 of Set 7 : tokur\n",
      "Processing Record 0 of Set 8 : kosugi\n",
      "Processing Record 1 of Set 8 : pulawy\n",
      "Processing Record 2 of Set 8 : watertown\n",
      "Processing Record 3 of Set 8 : isangel\n",
      "Processing Record 4 of Set 8 : le mars\n",
      "Processing Record 5 of Set 8 : calvinia\n",
      "City not found. Skipping...\n",
      "City not found. Skipping...\n",
      "Processing Record 6 of Set 8 : bumba\n",
      "Processing Record 7 of Set 8 : chateaubelair\n",
      "Processing Record 8 of Set 8 : metro\n",
      "City not found. Skipping...\n",
      "Processing Record 9 of Set 8 : bubaque\n",
      "Processing Record 10 of Set 8 : comodoro rivadavia\n",
      "Processing Record 11 of Set 8 : awjilah\n",
      "Processing Record 12 of Set 8 : kropotkin\n",
      "Processing Record 13 of Set 8 : batemans bay\n",
      "Processing Record 14 of Set 8 : sabang\n",
      "Processing Record 15 of Set 8 : shetpe\n",
      "Processing Record 16 of Set 8 : santa vitoria do palmar\n",
      "Processing Record 17 of Set 8 : codrington\n"
     ]
    },
    {
     "name": "stdout",
     "output_type": "stream",
     "text": [
      "Processing Record 18 of Set 8 : soyo\n",
      "Processing Record 19 of Set 8 : finnsnes\n",
      "Processing Record 20 of Set 8 : grand gaube\n",
      "Processing Record 21 of Set 8 : kaniama\n",
      "Processing Record 22 of Set 8 : geraldton\n",
      "Processing Record 23 of Set 8 : merauke\n",
      "City not found. Skipping...\n",
      "City not found. Skipping...\n",
      "Processing Record 24 of Set 8 : medicine hat\n",
      "Processing Record 25 of Set 8 : male\n",
      "Processing Record 26 of Set 8 : smithers\n",
      "Processing Record 27 of Set 8 : taoudenni\n",
      "Processing Record 28 of Set 8 : musafirkhana\n",
      "Processing Record 29 of Set 8 : harper\n",
      "Processing Record 30 of Set 8 : asau\n",
      "Processing Record 31 of Set 8 : north bend\n",
      "City not found. Skipping...\n",
      "Processing Record 32 of Set 8 : san luis\n",
      "Processing Record 33 of Set 8 : goundi\n",
      "Processing Record 34 of Set 8 : maradi\n",
      "Processing Record 35 of Set 8 : trincomalee\n",
      "City not found. Skipping...\n",
      "Processing Record 36 of Set 8 : nantucket\n",
      "Processing Record 37 of Set 8 : saint-joseph\n",
      "Processing Record 38 of Set 8 : jales\n",
      "Processing Record 39 of Set 8 : moose factory\n",
      "Processing Record 40 of Set 8 : toppenish\n",
      "Processing Record 41 of Set 8 : salalah\n",
      "Processing Record 42 of Set 8 : ancud\n",
      "Processing Record 43 of Set 8 : pocone\n",
      "Processing Record 44 of Set 8 : marsh harbour\n",
      "Processing Record 45 of Set 8 : mamlyutka\n",
      "Processing Record 46 of Set 8 : maua\n",
      "Processing Record 47 of Set 8 : hasaki\n",
      "Processing Record 48 of Set 8 : san andres\n",
      "Processing Record 49 of Set 8 : omboue\n",
      "Processing Record 50 of Set 8 : palmar\n",
      "Processing Record 0 of Set 9 : west bay\n",
      "Processing Record 1 of Set 9 : ngama\n",
      "Processing Record 2 of Set 9 : maputo\n",
      "Processing Record 3 of Set 9 : yar-sale\n",
      "Processing Record 4 of Set 9 : salme\n",
      "Processing Record 5 of Set 9 : kismayo\n",
      "Processing Record 6 of Set 9 : raudeberg\n",
      "City not found. Skipping...\n",
      "Processing Record 7 of Set 9 : lucapa\n",
      "Processing Record 8 of Set 9 : velyka bilozerka\n",
      "Processing Record 9 of Set 9 : crawfordsville\n",
      "Processing Record 10 of Set 9 : tandil\n",
      "Processing Record 11 of Set 9 : mfou\n",
      "Processing Record 12 of Set 9 : huesca\n",
      "Processing Record 13 of Set 9 : honiara\n",
      "Processing Record 14 of Set 9 : trairi\n",
      "Processing Record 15 of Set 9 : porto belo\n",
      "Processing Record 16 of Set 9 : los llanos de aridane\n",
      "City not found. Skipping...\n",
      "Processing Record 17 of Set 9 : ofaqim\n",
      "Processing Record 18 of Set 9 : belmonte\n",
      "Processing Record 19 of Set 9 : dunedin\n",
      "Processing Record 20 of Set 9 : komsomolskiy\n",
      "Processing Record 21 of Set 9 : adrar\n",
      "Processing Record 22 of Set 9 : high level\n",
      "Processing Record 23 of Set 9 : escobal\n",
      "Processing Record 24 of Set 9 : douglas\n",
      "Processing Record 25 of Set 9 : san pedro\n",
      "Processing Record 26 of Set 9 : talaya\n",
      "City not found. Skipping...\n",
      "Processing Record 27 of Set 9 : angoche\n",
      "Processing Record 28 of Set 9 : marrakesh\n",
      "Processing Record 29 of Set 9 : osmena\n",
      "Processing Record 30 of Set 9 : kadyy\n",
      "Processing Record 31 of Set 9 : bintulu\n",
      "Processing Record 32 of Set 9 : carutapera\n",
      "Processing Record 33 of Set 9 : kiruna\n",
      "City not found. Skipping...\n",
      "Processing Record 34 of Set 9 : kayasula\n",
      "Processing Record 35 of Set 9 : katsuura\n",
      "Processing Record 36 of Set 9 : nouakchott\n",
      "Processing Record 37 of Set 9 : maceio\n",
      "Processing Record 38 of Set 9 : chapais\n",
      "Processing Record 39 of Set 9 : turayf\n",
      "Processing Record 40 of Set 9 : chake chake\n",
      "Processing Record 41 of Set 9 : sarishabari\n",
      "Processing Record 42 of Set 9 : sotnikovo\n",
      "Processing Record 43 of Set 9 : alugan\n",
      "Processing Record 44 of Set 9 : goderich\n",
      "Processing Record 45 of Set 9 : iranshahr\n",
      "Processing Record 46 of Set 9 : rovaniemi\n",
      "City not found. Skipping...\n",
      "Processing Record 47 of Set 9 : tsabong\n",
      "Processing Record 48 of Set 9 : yabassi\n",
      "Processing Record 49 of Set 9 : qaqortoq\n",
      "Processing Record 50 of Set 9 : srednekolymsk\n",
      "Processing Record 0 of Set 10 : mecca\n",
      "Processing Record 1 of Set 10 : omsukchan\n",
      "Processing Record 2 of Set 10 : mehamn\n",
      "Processing Record 3 of Set 10 : roebourne\n",
      "Processing Record 4 of Set 10 : saint-francois\n",
      "Processing Record 5 of Set 10 : semey\n",
      "Processing Record 6 of Set 10 : deputatskiy\n",
      "Processing Record 7 of Set 10 : ahuimanu\n",
      "Processing Record 8 of Set 10 : ukiah\n",
      "Processing Record 9 of Set 10 : yarada\n",
      "Processing Record 10 of Set 10 : ketchikan\n",
      "Processing Record 11 of Set 10 : ula\n",
      "Processing Record 12 of Set 10 : marsa matruh\n",
      "Processing Record 13 of Set 10 : guadalupe y calvo\n",
      "City not found. Skipping...\n",
      "Processing Record 14 of Set 10 : san cristobal\n",
      "Processing Record 15 of Set 10 : la ronge\n",
      "Processing Record 16 of Set 10 : mitsamiouli\n",
      "Processing Record 17 of Set 10 : bahile\n",
      "Processing Record 18 of Set 10 : preobrazheniye\n",
      "Processing Record 19 of Set 10 : cartagena\n",
      "Processing Record 20 of Set 10 : klaksvik\n",
      "Processing Record 21 of Set 10 : lulea\n",
      "Processing Record 22 of Set 10 : te anau\n",
      "Processing Record 23 of Set 10 : karlovac\n",
      "Processing Record 24 of Set 10 : kawalu\n",
      "Processing Record 25 of Set 10 : puerto baquerizo moreno\n",
      "Processing Record 26 of Set 10 : tura\n",
      "Processing Record 27 of Set 10 : yerbogachen\n",
      "Processing Record 28 of Set 10 : mogok\n",
      "Processing Record 29 of Set 10 : barao de melgaco\n",
      "Processing Record 30 of Set 10 : vanimo\n",
      "Processing Record 31 of Set 10 : lingen\n",
      "Processing Record 32 of Set 10 : vao\n",
      "Processing Record 33 of Set 10 : chernyshevskiy\n",
      "Processing Record 34 of Set 10 : juneau\n",
      "Processing Record 35 of Set 10 : fecamp\n",
      "Processing Record 36 of Set 10 : ilulissat\n",
      "Processing Record 37 of Set 10 : gravdal\n",
      "Processing Record 38 of Set 10 : port blair\n",
      "Processing Record 39 of Set 10 : baruun-urt\n",
      "Processing Record 40 of Set 10 : deyang\n",
      "Processing Record 41 of Set 10 : yeppoon\n",
      "Processing Record 42 of Set 10 : macusani\n",
      "Processing Record 43 of Set 10 : haines junction\n",
      "Processing Record 44 of Set 10 : mogadishu\n",
      "Processing Record 45 of Set 10 : ndele\n",
      "Processing Record 46 of Set 10 : banjar\n",
      "Processing Record 47 of Set 10 : coahuayana\n",
      "Processing Record 48 of Set 10 : fairbanks\n",
      "Processing Record 49 of Set 10 : cayenne\n",
      "Processing Record 50 of Set 10 : assai\n",
      "Processing Record 0 of Set 11 : gurupi\n",
      "Processing Record 1 of Set 11 : knysna\n",
      "Processing Record 2 of Set 11 : panevezys\n",
      "Processing Record 3 of Set 11 : biryusinsk\n",
      "Processing Record 4 of Set 11 : krasnoselkup\n",
      "Processing Record 5 of Set 11 : waipawa\n",
      "Processing Record 6 of Set 11 : ilo\n",
      "Processing Record 7 of Set 11 : asfi\n",
      "Processing Record 8 of Set 11 : batticaloa\n",
      "Processing Record 9 of Set 11 : rach gia\n",
      "Processing Record 10 of Set 11 : pangody\n",
      "Processing Record 11 of Set 11 : natal\n",
      "Processing Record 12 of Set 11 : basco\n",
      "Processing Record 13 of Set 11 : hilton head island\n",
      "Processing Record 14 of Set 11 : auki\n",
      "Processing Record 15 of Set 11 : amboasary\n",
      "Processing Record 16 of Set 11 : puerto escondido\n",
      "Processing Record 17 of Set 11 : necochea\n",
      "Processing Record 18 of Set 11 : teahupoo\n",
      "Processing Record 19 of Set 11 : tolaga bay\n",
      "Processing Record 20 of Set 11 : turkan\n",
      "Processing Record 21 of Set 11 : hovd\n",
      "Processing Record 22 of Set 11 : bara\n",
      "Processing Record 23 of Set 11 : nishihara\n",
      "Processing Record 24 of Set 11 : varhaug\n",
      "Processing Record 25 of Set 11 : dudinka\n",
      "City not found. Skipping...\n",
      "Processing Record 26 of Set 11 : kholm\n",
      "Processing Record 27 of Set 11 : cuautlalpan\n",
      "Processing Record 28 of Set 11 : kieta\n",
      "Processing Record 29 of Set 11 : popondetta\n",
      "Processing Record 30 of Set 11 : praia\n",
      "Processing Record 31 of Set 11 : grenaa\n",
      "Processing Record 32 of Set 11 : belaya gora\n",
      "Processing Record 33 of Set 11 : altagracia de orituco\n",
      "Processing Record 34 of Set 11 : uglekamensk\n",
      "Processing Record 35 of Set 11 : rreshen\n",
      "Processing Record 36 of Set 11 : amapa\n",
      "Processing Record 37 of Set 11 : abomey\n",
      "Processing Record 38 of Set 11 : barra da estiva\n",
      "Processing Record 39 of Set 11 : vila velha\n",
      "Processing Record 40 of Set 11 : kudahuvadhoo\n",
      "Processing Record 41 of Set 11 : morondava\n",
      "Processing Record 42 of Set 11 : warri\n",
      "Processing Record 43 of Set 11 : liverpool\n",
      "City not found. Skipping...\n",
      "Processing Record 44 of Set 11 : shelburne\n",
      "Processing Record 45 of Set 11 : saint-georges\n",
      "Processing Record 46 of Set 11 : kahului\n",
      "Processing Record 47 of Set 11 : inuvik\n",
      "Processing Record 48 of Set 11 : cairns\n",
      "Processing Record 49 of Set 11 : beidao\n",
      "Processing Record 50 of Set 11 : rota\n",
      "City not found. Skipping...\n",
      "Processing Record 0 of Set 12 : husavik\n",
      "Processing Record 1 of Set 12 : balykshi\n",
      "Processing Record 2 of Set 12 : kidodi\n"
     ]
    },
    {
     "name": "stdout",
     "output_type": "stream",
     "text": [
      "Processing Record 3 of Set 12 : qingquan\n",
      "Processing Record 4 of Set 12 : nipawin\n",
      "Processing Record 5 of Set 12 : pontal do parana\n",
      "Processing Record 6 of Set 12 : la paz\n",
      "Processing Record 7 of Set 12 : yuli\n",
      "Processing Record 8 of Set 12 : ascension\n",
      "Processing Record 9 of Set 12 : urumqi\n",
      "-----------------------------\n",
      "Data Retrieval Complete\n",
      "-----------------------------\n"
     ]
    }
   ],
   "source": [
    "counter=0\n",
    "set_counter=1\n",
    "\n",
    "print(\"Initial Data Retrieval\")\n",
    "print(\"-----------------------\")\n",
    "\n",
    "for index, city in enumerate(cities, start = 1):\n",
    "    try:\n",
    "        response = requests.get(url + city).json()\n",
    "        city_list.append(response['name'])\n",
    "        cld.append(response['clouds']['all'])\n",
    "        country.append(response['sys']['country'])\n",
    "        date.append(response['dt'])\n",
    "        hum.append(response['main']['humidity'])\n",
    "        latt.append(response['coord']['lat'])\n",
    "        lng.append(response['coord']['lon'])\n",
    "        temp_max.append(response['main']['temp_max'])\n",
    "        wnd.append(response['wind']['speed'])\n",
    "        if counter > 49:\n",
    "            counter = 0\n",
    "            set_counter = set_counter + 1\n",
    "    \n",
    "        else:\n",
    "            counter = counter + 1\n",
    "            \n",
    "        print(f\"Processing Record {counter} of Set {set_counter} : {city}\") \n",
    "  \n",
    "    except(KeyError, IndexError):\n",
    "        print(\"City not found. Skipping...\")\n",
    "\n",
    "print(\"-----------------------------\")\n",
    "print(\"Data Retrieval Complete\")\n",
    "print(\"-----------------------------\")"
   ]
  },
  {
   "cell_type": "markdown",
   "metadata": {},
   "source": [
    "### Convert Raw Data to DataFrame\n",
    "* Export the city data into a .csv.\n",
    "* Display the DataFrame"
   ]
  },
  {
   "cell_type": "code",
   "execution_count": 6,
   "metadata": {},
   "outputs": [
    {
     "data": {
      "text/html": [
       "<div>\n",
       "<style scoped>\n",
       "    .dataframe tbody tr th:only-of-type {\n",
       "        vertical-align: middle;\n",
       "    }\n",
       "\n",
       "    .dataframe tbody tr th {\n",
       "        vertical-align: top;\n",
       "    }\n",
       "\n",
       "    .dataframe thead th {\n",
       "        text-align: right;\n",
       "    }\n",
       "</style>\n",
       "<table border=\"1\" class=\"dataframe\">\n",
       "  <thead>\n",
       "    <tr style=\"text-align: right;\">\n",
       "      <th></th>\n",
       "      <th>City</th>\n",
       "      <th>Country</th>\n",
       "      <th>Wind Speed</th>\n",
       "      <th>Cloudiness</th>\n",
       "      <th>Max Temperature</th>\n",
       "      <th>Humidity</th>\n",
       "      <th>Lattitude</th>\n",
       "      <th>Longitude</th>\n",
       "      <th>Date</th>\n",
       "    </tr>\n",
       "  </thead>\n",
       "  <tbody>\n",
       "    <tr>\n",
       "      <th>0</th>\n",
       "      <td>Jamestown</td>\n",
       "      <td>US</td>\n",
       "      <td>6.91</td>\n",
       "      <td>1</td>\n",
       "      <td>73.04</td>\n",
       "      <td>73</td>\n",
       "      <td>42.097</td>\n",
       "      <td>-79.2353</td>\n",
       "      <td>1627264019</td>\n",
       "    </tr>\n",
       "    <tr>\n",
       "      <th>1</th>\n",
       "      <td>Barrow</td>\n",
       "      <td>US</td>\n",
       "      <td>18.41</td>\n",
       "      <td>90</td>\n",
       "      <td>39.22</td>\n",
       "      <td>95</td>\n",
       "      <td>71.2906</td>\n",
       "      <td>-156.7887</td>\n",
       "      <td>1627264090</td>\n",
       "    </tr>\n",
       "    <tr>\n",
       "      <th>2</th>\n",
       "      <td>Puerto Ayora</td>\n",
       "      <td>EC</td>\n",
       "      <td>7</td>\n",
       "      <td>3</td>\n",
       "      <td>71.55</td>\n",
       "      <td>88</td>\n",
       "      <td>-0.7393</td>\n",
       "      <td>-90.3518</td>\n",
       "      <td>1627264101</td>\n",
       "    </tr>\n",
       "    <tr>\n",
       "      <th>3</th>\n",
       "      <td>Alyangula</td>\n",
       "      <td>AU</td>\n",
       "      <td>10.36</td>\n",
       "      <td>66</td>\n",
       "      <td>82.27</td>\n",
       "      <td>44</td>\n",
       "      <td>-13.8483</td>\n",
       "      <td>136.4192</td>\n",
       "      <td>1627264435</td>\n",
       "    </tr>\n",
       "    <tr>\n",
       "      <th>4</th>\n",
       "      <td>Tonota</td>\n",
       "      <td>BW</td>\n",
       "      <td>7.65</td>\n",
       "      <td>0</td>\n",
       "      <td>41.7</td>\n",
       "      <td>83</td>\n",
       "      <td>-21.4833</td>\n",
       "      <td>27.4833</td>\n",
       "      <td>1627264631</td>\n",
       "    </tr>\n",
       "  </tbody>\n",
       "</table>\n",
       "</div>"
      ],
      "text/plain": [
       "           City Country Wind Speed Cloudiness Max Temperature Humidity  \\\n",
       "0     Jamestown      US       6.91          1           73.04       73   \n",
       "1        Barrow      US      18.41         90           39.22       95   \n",
       "2  Puerto Ayora      EC          7          3           71.55       88   \n",
       "3     Alyangula      AU      10.36         66           82.27       44   \n",
       "4        Tonota      BW       7.65          0            41.7       83   \n",
       "\n",
       "  Lattitude Longitude        Date  \n",
       "0    42.097  -79.2353  1627264019  \n",
       "1   71.2906 -156.7887  1627264090  \n",
       "2   -0.7393  -90.3518  1627264101  \n",
       "3  -13.8483  136.4192  1627264435  \n",
       "4  -21.4833   27.4833  1627264631  "
      ]
     },
     "execution_count": 6,
     "metadata": {},
     "output_type": "execute_result"
    }
   ],
   "source": [
    "climate_dict={\n",
    "          \"City\":city_list,\n",
    "          \"Country\": country,\n",
    "          \"Wind Speed\": wnd,\n",
    "          \"Cloudiness\":cld,\n",
    "          \"Max Temperature\": temp_max,\n",
    "          \"Humidity\": hum,\n",
    "          \"Lattitude\":latt,\n",
    "          \"Longitude\": lng,\n",
    "          \"Date\": date}\n",
    "df = pd.DataFrame.from_dict(climate_dict, orient='index')\n",
    "climate_df = df.transpose()\n",
    "clean_climate_df=climate_df.dropna(how='any')\n",
    "clean_climate_df.head()"
   ]
  },
  {
   "cell_type": "code",
   "execution_count": 7,
   "metadata": {},
   "outputs": [
    {
     "data": {
      "text/plain": [
       "City               570\n",
       "Country            570\n",
       "Wind Speed         570\n",
       "Cloudiness         570\n",
       "Max Temperature    570\n",
       "Humidity           570\n",
       "Lattitude          570\n",
       "Longitude          570\n",
       "Date               570\n",
       "dtype: int64"
      ]
     },
     "execution_count": 7,
     "metadata": {},
     "output_type": "execute_result"
    }
   ],
   "source": [
    "clean_climate_df.count()"
   ]
  },
  {
   "cell_type": "markdown",
   "metadata": {},
   "source": [
    "## Inspect the data and remove the cities where the humidity > 100%.\n",
    "----\n",
    "Skip this step if there are no cities that have humidity > 100%. "
   ]
  },
  {
   "cell_type": "code",
   "execution_count": 13,
   "metadata": {},
   "outputs": [
    {
     "data": {
      "text/html": [
       "<div>\n",
       "<style scoped>\n",
       "    .dataframe tbody tr th:only-of-type {\n",
       "        vertical-align: middle;\n",
       "    }\n",
       "\n",
       "    .dataframe tbody tr th {\n",
       "        vertical-align: top;\n",
       "    }\n",
       "\n",
       "    .dataframe thead th {\n",
       "        text-align: right;\n",
       "    }\n",
       "</style>\n",
       "<table border=\"1\" class=\"dataframe\">\n",
       "  <thead>\n",
       "    <tr style=\"text-align: right;\">\n",
       "      <th></th>\n",
       "      <th>City</th>\n",
       "      <th>Country</th>\n",
       "      <th>Wind Speed</th>\n",
       "      <th>Cloudiness</th>\n",
       "      <th>Max Temperature</th>\n",
       "      <th>Humidity</th>\n",
       "      <th>Lattitude</th>\n",
       "      <th>Longitude</th>\n",
       "      <th>Date</th>\n",
       "    </tr>\n",
       "  </thead>\n",
       "  <tbody>\n",
       "    <tr>\n",
       "      <th>0</th>\n",
       "      <td>Jamestown</td>\n",
       "      <td>US</td>\n",
       "      <td>6.91</td>\n",
       "      <td>1</td>\n",
       "      <td>73.04</td>\n",
       "      <td>73</td>\n",
       "      <td>42.097</td>\n",
       "      <td>-79.2353</td>\n",
       "      <td>1627264019</td>\n",
       "    </tr>\n",
       "    <tr>\n",
       "      <th>1</th>\n",
       "      <td>Barrow</td>\n",
       "      <td>US</td>\n",
       "      <td>18.41</td>\n",
       "      <td>90</td>\n",
       "      <td>39.22</td>\n",
       "      <td>95</td>\n",
       "      <td>71.2906</td>\n",
       "      <td>-156.7887</td>\n",
       "      <td>1627264090</td>\n",
       "    </tr>\n",
       "    <tr>\n",
       "      <th>2</th>\n",
       "      <td>Puerto Ayora</td>\n",
       "      <td>EC</td>\n",
       "      <td>7</td>\n",
       "      <td>3</td>\n",
       "      <td>71.55</td>\n",
       "      <td>88</td>\n",
       "      <td>-0.7393</td>\n",
       "      <td>-90.3518</td>\n",
       "      <td>1627264101</td>\n",
       "    </tr>\n",
       "    <tr>\n",
       "      <th>3</th>\n",
       "      <td>Alyangula</td>\n",
       "      <td>AU</td>\n",
       "      <td>10.36</td>\n",
       "      <td>66</td>\n",
       "      <td>82.27</td>\n",
       "      <td>44</td>\n",
       "      <td>-13.8483</td>\n",
       "      <td>136.4192</td>\n",
       "      <td>1627264435</td>\n",
       "    </tr>\n",
       "    <tr>\n",
       "      <th>4</th>\n",
       "      <td>Tonota</td>\n",
       "      <td>BW</td>\n",
       "      <td>7.65</td>\n",
       "      <td>0</td>\n",
       "      <td>41.7</td>\n",
       "      <td>83</td>\n",
       "      <td>-21.4833</td>\n",
       "      <td>27.4833</td>\n",
       "      <td>1627264631</td>\n",
       "    </tr>\n",
       "    <tr>\n",
       "      <th>...</th>\n",
       "      <td>...</td>\n",
       "      <td>...</td>\n",
       "      <td>...</td>\n",
       "      <td>...</td>\n",
       "      <td>...</td>\n",
       "      <td>...</td>\n",
       "      <td>...</td>\n",
       "      <td>...</td>\n",
       "      <td>...</td>\n",
       "    </tr>\n",
       "    <tr>\n",
       "      <th>565</th>\n",
       "      <td>Pontal do Paraná</td>\n",
       "      <td>BR</td>\n",
       "      <td>3.85</td>\n",
       "      <td>4</td>\n",
       "      <td>69.46</td>\n",
       "      <td>78</td>\n",
       "      <td>-25.6533</td>\n",
       "      <td>-48.5128</td>\n",
       "      <td>1627264743</td>\n",
       "    </tr>\n",
       "    <tr>\n",
       "      <th>566</th>\n",
       "      <td>La Paz</td>\n",
       "      <td>BO</td>\n",
       "      <td>5.75</td>\n",
       "      <td>40</td>\n",
       "      <td>39.18</td>\n",
       "      <td>55</td>\n",
       "      <td>-16.5</td>\n",
       "      <td>-68.15</td>\n",
       "      <td>1627264612</td>\n",
       "    </tr>\n",
       "    <tr>\n",
       "      <th>567</th>\n",
       "      <td>Yuli</td>\n",
       "      <td>NG</td>\n",
       "      <td>4.79</td>\n",
       "      <td>97</td>\n",
       "      <td>71.33</td>\n",
       "      <td>97</td>\n",
       "      <td>9.6989</td>\n",
       "      <td>10.2744</td>\n",
       "      <td>1627264744</td>\n",
       "    </tr>\n",
       "    <tr>\n",
       "      <th>568</th>\n",
       "      <td>Ascension</td>\n",
       "      <td>US</td>\n",
       "      <td>3.44</td>\n",
       "      <td>1</td>\n",
       "      <td>86.04</td>\n",
       "      <td>80</td>\n",
       "      <td>30.2169</td>\n",
       "      <td>-90.9001</td>\n",
       "      <td>1627264744</td>\n",
       "    </tr>\n",
       "    <tr>\n",
       "      <th>569</th>\n",
       "      <td>Ürümqi</td>\n",
       "      <td>CN</td>\n",
       "      <td>6.71</td>\n",
       "      <td>0</td>\n",
       "      <td>86.95</td>\n",
       "      <td>19</td>\n",
       "      <td>43.801</td>\n",
       "      <td>87.6005</td>\n",
       "      <td>1627264551</td>\n",
       "    </tr>\n",
       "  </tbody>\n",
       "</table>\n",
       "<p>567 rows × 9 columns</p>\n",
       "</div>"
      ],
      "text/plain": [
       "                 City Country Wind Speed Cloudiness Max Temperature Humidity  \\\n",
       "0           Jamestown      US       6.91          1           73.04       73   \n",
       "1              Barrow      US      18.41         90           39.22       95   \n",
       "2        Puerto Ayora      EC          7          3           71.55       88   \n",
       "3           Alyangula      AU      10.36         66           82.27       44   \n",
       "4              Tonota      BW       7.65          0            41.7       83   \n",
       "..                ...     ...        ...        ...             ...      ...   \n",
       "565  Pontal do Paraná      BR       3.85          4           69.46       78   \n",
       "566            La Paz      BO       5.75         40           39.18       55   \n",
       "567              Yuli      NG       4.79         97           71.33       97   \n",
       "568         Ascension      US       3.44          1           86.04       80   \n",
       "569            Ürümqi      CN       6.71          0           86.95       19   \n",
       "\n",
       "    Lattitude Longitude        Date  \n",
       "0      42.097  -79.2353  1627264019  \n",
       "1     71.2906 -156.7887  1627264090  \n",
       "2     -0.7393  -90.3518  1627264101  \n",
       "3    -13.8483  136.4192  1627264435  \n",
       "4    -21.4833   27.4833  1627264631  \n",
       "..        ...       ...         ...  \n",
       "565  -25.6533  -48.5128  1627264743  \n",
       "566     -16.5    -68.15  1627264612  \n",
       "567    9.6989   10.2744  1627264744  \n",
       "568   30.2169  -90.9001  1627264744  \n",
       "569    43.801   87.6005  1627264551  \n",
       "\n",
       "[567 rows x 9 columns]"
      ]
     },
     "execution_count": 13,
     "metadata": {},
     "output_type": "execute_result"
    }
   ],
   "source": [
    "clean_climate_df.loc[clean_climate_df['Humidity']<100]"
   ]
  },
  {
   "cell_type": "code",
   "execution_count": 17,
   "metadata": {},
   "outputs": [
    {
     "data": {
      "text/plain": [
       "Int64Index([], dtype='int64')"
      ]
     },
     "execution_count": 17,
     "metadata": {},
     "output_type": "execute_result"
    }
   ],
   "source": [
    "#  Get the indices of cities that have humidity over 100%.\n"
   ]
  },
  {
   "cell_type": "code",
   "execution_count": 19,
   "metadata": {},
   "outputs": [
    {
     "data": {
      "text/html": [
       "<div>\n",
       "<style scoped>\n",
       "    .dataframe tbody tr th:only-of-type {\n",
       "        vertical-align: middle;\n",
       "    }\n",
       "\n",
       "    .dataframe tbody tr th {\n",
       "        vertical-align: top;\n",
       "    }\n",
       "\n",
       "    .dataframe thead th {\n",
       "        text-align: right;\n",
       "    }\n",
       "</style>\n",
       "<table border=\"1\" class=\"dataframe\">\n",
       "  <thead>\n",
       "    <tr style=\"text-align: right;\">\n",
       "      <th></th>\n",
       "      <th>City</th>\n",
       "      <th>Lat</th>\n",
       "      <th>Lng</th>\n",
       "      <th>Max Temp</th>\n",
       "      <th>Humidity</th>\n",
       "      <th>Cloudiness</th>\n",
       "      <th>Wind Speed</th>\n",
       "      <th>Country</th>\n",
       "      <th>Date</th>\n",
       "    </tr>\n",
       "  </thead>\n",
       "  <tbody>\n",
       "    <tr>\n",
       "      <td>0</td>\n",
       "      <td>butaritari</td>\n",
       "      <td>3.07</td>\n",
       "      <td>172.79</td>\n",
       "      <td>83.32</td>\n",
       "      <td>74</td>\n",
       "      <td>84</td>\n",
       "      <td>10.42</td>\n",
       "      <td>KI</td>\n",
       "      <td>1593605283</td>\n",
       "    </tr>\n",
       "    <tr>\n",
       "      <td>1</td>\n",
       "      <td>yerbogachen</td>\n",
       "      <td>61.28</td>\n",
       "      <td>108.01</td>\n",
       "      <td>79.52</td>\n",
       "      <td>58</td>\n",
       "      <td>20</td>\n",
       "      <td>7.70</td>\n",
       "      <td>RU</td>\n",
       "      <td>1593605121</td>\n",
       "    </tr>\n",
       "    <tr>\n",
       "      <td>2</td>\n",
       "      <td>cape town</td>\n",
       "      <td>-33.93</td>\n",
       "      <td>18.42</td>\n",
       "      <td>73.00</td>\n",
       "      <td>77</td>\n",
       "      <td>27</td>\n",
       "      <td>4.70</td>\n",
       "      <td>ZA</td>\n",
       "      <td>1593605039</td>\n",
       "    </tr>\n",
       "    <tr>\n",
       "      <td>3</td>\n",
       "      <td>touba</td>\n",
       "      <td>8.28</td>\n",
       "      <td>-7.68</td>\n",
       "      <td>79.97</td>\n",
       "      <td>75</td>\n",
       "      <td>82</td>\n",
       "      <td>3.58</td>\n",
       "      <td>CI</td>\n",
       "      <td>1593605284</td>\n",
       "    </tr>\n",
       "    <tr>\n",
       "      <td>4</td>\n",
       "      <td>jamestown</td>\n",
       "      <td>42.10</td>\n",
       "      <td>-79.24</td>\n",
       "      <td>64.00</td>\n",
       "      <td>88</td>\n",
       "      <td>1</td>\n",
       "      <td>6.93</td>\n",
       "      <td>US</td>\n",
       "      <td>1593605284</td>\n",
       "    </tr>\n",
       "  </tbody>\n",
       "</table>\n",
       "</div>"
      ],
      "text/plain": [
       "          City    Lat     Lng  Max Temp  Humidity  Cloudiness  Wind Speed  \\\n",
       "0   butaritari   3.07  172.79     83.32        74          84       10.42   \n",
       "1  yerbogachen  61.28  108.01     79.52        58          20        7.70   \n",
       "2    cape town -33.93   18.42     73.00        77          27        4.70   \n",
       "3        touba   8.28   -7.68     79.97        75          82        3.58   \n",
       "4    jamestown  42.10  -79.24     64.00        88           1        6.93   \n",
       "\n",
       "  Country        Date  \n",
       "0      KI  1593605283  \n",
       "1      RU  1593605121  \n",
       "2      ZA  1593605039  \n",
       "3      CI  1593605284  \n",
       "4      US  1593605284  "
      ]
     },
     "execution_count": 19,
     "metadata": {},
     "output_type": "execute_result"
    }
   ],
   "source": [
    "# Make a new DataFrame equal to the city data to drop all humidity outliers by index.\n",
    "# Passing \"inplace=False\" will make a copy of the city_data DataFrame, which we call \"clean_city_data\".\n"
   ]
  },
  {
   "cell_type": "code",
   "execution_count": 14,
   "metadata": {},
   "outputs": [],
   "source": [
    "clean_climate_df.to_csv(\"../data/cities.csv\", index = False)"
   ]
  },
  {
   "cell_type": "markdown",
   "metadata": {},
   "source": [
    "## Plotting the Data\n",
    "* Use proper labeling of the plots using plot titles (including date of analysis) and axes labels.\n",
    "* Save the plotted figures as .pngs."
   ]
  },
  {
   "cell_type": "markdown",
   "metadata": {},
   "source": [
    "## Latitude vs. Temperature Plot"
   ]
  },
  {
   "cell_type": "code",
   "execution_count": 22,
   "metadata": {
    "scrolled": true
   },
   "outputs": [
    {
     "data": {
      "image/png": "[encoded data removed]",
      "text/plain": [
       "<Figure size 432x288 with 1 Axes>"
      ]
     },
     "metadata": {
      "needs_background": "light"
     },
     "output_type": "display_data"
    }
   ],
   "source": [
    "#plot\n",
    "plt.scatter(clean_climate_df[\"Lattitude\"], clean_climate_df[\"Max Temperature\"], facecolor = \"steelblue\", edgecolor = \"black\")\n",
    "\n",
    "#labels\n",
    "plt.title(\"Lattitude vs Temperature(F)\")\n",
    "plt.ylabel(\"Temperature (F)\")\n",
    "plt.xlabel(\"Lattitude Coordinates\")\n",
    "plt.grid()\n",
    "plt.savefig(\"../Images/city_latt_vs_temperature.png\")"
   ]
  },
  {
   "cell_type": "markdown",
   "metadata": {},
   "source": [
    "## Latitude vs. Humidity Plot"
   ]
  },
  {
   "cell_type": "code",
   "execution_count": 24,
   "metadata": {},
   "outputs": [
    {
     "data": {
      "image/png": "[encoded data removed]",
      "text/plain": [
       "<Figure size 432x288 with 1 Axes>"
      ]
     },
     "metadata": {
      "needs_background": "light"
     },
     "output_type": "display_data"
    }
   ],
   "source": [
    "#plot\n",
    "plt.scatter(clean_climate_df[\"Lattitude\"], clean_climate_df[\"Humidity\"], facecolor = \"lightblue\", edgecolor = \"black\")\n",
    "\n",
    "#labels\n",
    "plt.title(\"Lattitude vs Humidity\")\n",
    "plt.ylabel(\"Humidity %\")\n",
    "plt.xlabel(\"Lattitude Coordinates\")\n",
    "plt.grid()\n",
    "plt.savefig(\"../Images/city_latt_vs_humidity.png\")"
   ]
  },
  {
   "cell_type": "markdown",
   "metadata": {},
   "source": [
    "## Latitude vs. Cloudiness Plot"
   ]
  },
  {
   "cell_type": "code",
   "execution_count": 26,
   "metadata": {},
   "outputs": [
    {
     "data": {
      "image/png": "[encoded data removed]",
      "text/plain": [
       "<Figure size 432x288 with 1 Axes>"
      ]
     },
     "metadata": {
      "needs_background": "light"
     },
     "output_type": "display_data"
    }
   ],
   "source": [
    "#plot\n",
    "plt.scatter(clean_climate_df[\"Lattitude\"], clean_climate_df[\"Cloudiness\"], facecolor = \"skyblue\", edgecolor = \"black\")\n",
    "\n",
    "#labels\n",
    "plt.title(\"Lattitude vs Cloudiness\")\n",
    "plt.ylabel(\"Cloudiness (%)\")\n",
    "plt.xlabel(\"Lattitude Coordinates\")\n",
    "plt.grid()\n",
    "plt.savefig(\"../Images/city_latt_vs_cloudiness.png\")"
   ]
  },
  {
   "cell_type": "markdown",
   "metadata": {},
   "source": [
    "## Latitude vs. Wind Speed Plot"
   ]
  },
  {
   "cell_type": "code",
   "execution_count": 27,
   "metadata": {},
   "outputs": [
    {
     "data": {
      "image/png": "[encoded data removed]",
      "text/plain": [
       "<Figure size 432x288 with 1 Axes>"
      ]
     },
     "metadata": {
      "needs_background": "light"
     },
     "output_type": "display_data"
    }
   ],
   "source": [
    "#plot\n",
    "plt.scatter(clean_climate_df[\"Lattitude\"], clean_climate_df[\"Wind Speed\"], facecolor = \"steelblue\", edgecolor = \"black\")\n",
    "\n",
    "#labels\n",
    "plt.title(\"Lattitude vs Windspeed\")\n",
    "plt.ylabel(\"Windpseed (mph)\")\n",
    "plt.xlabel(\"Lattitude Coordinates\")\n",
    "plt.grid()\n",
    "plt.savefig(\"../Images/city_latt_vs_windspeed.png\")"
   ]
  },
  {
   "cell_type": "markdown",
   "metadata": {},
   "source": [
    "## Linear Regression"
   ]
  },
  {
   "cell_type": "code",
   "execution_count": 61,
   "metadata": {},
   "outputs": [],
   "source": [
    "#set ranges for northern and southern hemisphere\n",
    "northern_hem=clean_climate_df.loc[clean_climate_df['Lattitude']>=0]\n",
    "southern_hem=clean_climate_df.loc[clean_climate_df['Lattitude']<0]\n",
    "\n",
    "#create function for linear regression data\n",
    "# def line_regr(x, y,yaxis):\n",
    "    \n",
    "#     (slope, intercept, rvalue, pvalue, stderr) = linregress(x, y)\n",
    "#     y_pred = intercept + slope*x\n",
    "#     line_eq = \"y = \" + str(round(slope,2)) + \"x + \" + str(round(intercept,2))\n",
    "\n",
    "#     # Plot\n",
    "#     plt.scatter(x,y)\n",
    "#     plt.plot(x,y_pred,\"r-\")\n",
    "#     plt.xlabel('Latitude')\n",
    "#     plt.ylabel(yaxis)\n",
    "#     print(f\"r-squared: {rvalue}\")\n",
    "#     plt.show()\n",
    "\n",
    "# def linear_agression(x,y):\n",
    "#     print(f\"The r-squared is : {round(st.pearsonr(x, y)[0],2)}\")\n",
    "#     (slope, intercept, rvalue, pvalue, stderr) = linregress(x, y)\n",
    "#     regress_values = x * slope + intercept\n",
    "#     line_eq = \"y = \" + str(round(slope,2)) + \"x + \" + str(round(intercept,2))\n",
    "#     plt.scatter(x, y)\n",
    "#     plt.plot(x,regress_values,\"r-\")\n",
    "#     return line_eq\n",
    "\n",
    "#function for annotation\n",
    "# def annotate(line_eq, a, b):\n",
    "#     plt.annotate(line_eq,(a,b),fontsize=15,color=\"red\")\n",
    "    "
   ]
  },
  {
   "cell_type": "code",
   "execution_count": 74,
   "metadata": {},
   "outputs": [
    {
     "data": {
      "text/plain": [
       "376"
      ]
     },
     "execution_count": 74,
     "metadata": {},
     "output_type": "execute_result"
    }
   ],
   "source": [
    "\n",
    "northern_hem[\"Lattitude\"].count()"
   ]
  },
  {
   "cell_type": "markdown",
   "metadata": {},
   "source": [
    "####  Northern Hemisphere - Max Temp vs. Latitude Linear Regression"
   ]
  },
  {
   "cell_type": "code",
   "execution_count": 79,
   "metadata": {},
   "outputs": [
    {
     "ename": "AttributeError",
     "evalue": "'float' object has no attribute 'shape'",
     "output_type": "error",
     "traceback": [
      "\u001b[1;31m---------------------------------------------------------------------------\u001b[0m",
      "\u001b[1;31mAttributeError\u001b[0m                            Traceback (most recent call last)",
      "\u001b[1;32m<ipython-input-79-b326e553b2ea>\u001b[0m in \u001b[0;36m<module>\u001b[1;34m\u001b[0m\n\u001b[0;32m      5\u001b[0m \u001b[0mplt\u001b[0m\u001b[1;33m.\u001b[0m\u001b[0mscatter\u001b[0m\u001b[1;33m(\u001b[0m\u001b[0mnorth_latitude\u001b[0m\u001b[1;33m,\u001b[0m \u001b[0mnorthern_temp\u001b[0m\u001b[1;33m)\u001b[0m\u001b[1;33m\u001b[0m\u001b[1;33m\u001b[0m\u001b[0m\n\u001b[0;32m      6\u001b[0m \u001b[1;33m\u001b[0m\u001b[0m\n\u001b[1;32m----> 7\u001b[1;33m \u001b[0mslope\u001b[0m\u001b[1;33m,\u001b[0m \u001b[0mintercept\u001b[0m\u001b[1;33m,\u001b[0m \u001b[0mr\u001b[0m\u001b[1;33m,\u001b[0m \u001b[0mp\u001b[0m\u001b[1;33m,\u001b[0m \u001b[0mstd_err\u001b[0m \u001b[1;33m=\u001b[0m \u001b[0mst\u001b[0m\u001b[1;33m.\u001b[0m\u001b[0mlinregress\u001b[0m\u001b[1;33m(\u001b[0m\u001b[0mnorth_latitude\u001b[0m\u001b[1;33m,\u001b[0m \u001b[0mnorthern_temp\u001b[0m\u001b[1;33m)\u001b[0m\u001b[1;33m\u001b[0m\u001b[1;33m\u001b[0m\u001b[0m\n\u001b[0m\u001b[0;32m      8\u001b[0m \u001b[0mfit\u001b[0m \u001b[1;33m=\u001b[0m \u001b[0mslope\u001b[0m \u001b[1;33m*\u001b[0m \u001b[0mnorth_latitude\u001b[0m \u001b[1;33m+\u001b[0m \u001b[0mintercept\u001b[0m\u001b[1;33m\u001b[0m\u001b[1;33m\u001b[0m\u001b[0m\n\u001b[0;32m      9\u001b[0m \u001b[0mplt\u001b[0m\u001b[1;33m.\u001b[0m\u001b[0mplot\u001b[0m\u001b[1;33m(\u001b[0m\u001b[0mnorth_latitude\u001b[0m\u001b[1;33m,\u001b[0m\u001b[0mfit\u001b[0m\u001b[1;33m,\u001b[0m\u001b[1;34m\"--\"\u001b[0m\u001b[1;33m)\u001b[0m\u001b[1;33m\u001b[0m\u001b[1;33m\u001b[0m\u001b[0m\n",
      "\u001b[1;32m~\\anaconda3\\lib\\site-packages\\scipy\\stats\\_stats_mstats_common.py\u001b[0m in \u001b[0;36mlinregress\u001b[1;34m(x, y)\u001b[0m\n\u001b[0;32m    143\u001b[0m     \u001b[1;31m#   ssxm = mean( (x-mean(x))^2 )\u001b[0m\u001b[1;33m\u001b[0m\u001b[1;33m\u001b[0m\u001b[1;33m\u001b[0m\u001b[0m\n\u001b[0;32m    144\u001b[0m     \u001b[1;31m#   ssxym = mean( (x-mean(x)) * (y-mean(y)) )\u001b[0m\u001b[1;33m\u001b[0m\u001b[1;33m\u001b[0m\u001b[1;33m\u001b[0m\u001b[0m\n\u001b[1;32m--> 145\u001b[1;33m     \u001b[0mssxm\u001b[0m\u001b[1;33m,\u001b[0m \u001b[0mssxym\u001b[0m\u001b[1;33m,\u001b[0m \u001b[0m_\u001b[0m\u001b[1;33m,\u001b[0m \u001b[0mssym\u001b[0m \u001b[1;33m=\u001b[0m \u001b[0mnp\u001b[0m\u001b[1;33m.\u001b[0m\u001b[0mcov\u001b[0m\u001b[1;33m(\u001b[0m\u001b[0mx\u001b[0m\u001b[1;33m,\u001b[0m \u001b[0my\u001b[0m\u001b[1;33m,\u001b[0m \u001b[0mbias\u001b[0m\u001b[1;33m=\u001b[0m\u001b[1;36m1\u001b[0m\u001b[1;33m)\u001b[0m\u001b[1;33m.\u001b[0m\u001b[0mflat\u001b[0m\u001b[1;33m\u001b[0m\u001b[1;33m\u001b[0m\u001b[0m\n\u001b[0m\u001b[0;32m    146\u001b[0m \u001b[1;33m\u001b[0m\u001b[0m\n\u001b[0;32m    147\u001b[0m     \u001b[1;31m# R-value\u001b[0m\u001b[1;33m\u001b[0m\u001b[1;33m\u001b[0m\u001b[1;33m\u001b[0m\u001b[0m\n",
      "\u001b[1;32m<__array_function__ internals>\u001b[0m in \u001b[0;36mcov\u001b[1;34m(*args, **kwargs)\u001b[0m\n",
      "\u001b[1;32m~\\anaconda3\\lib\\site-packages\\numpy\\lib\\function_base.py\u001b[0m in \u001b[0;36mcov\u001b[1;34m(m, y, rowvar, bias, ddof, fweights, aweights, dtype)\u001b[0m\n\u001b[0;32m   2467\u001b[0m             \u001b[0mw\u001b[0m \u001b[1;33m*=\u001b[0m \u001b[0maweights\u001b[0m\u001b[1;33m\u001b[0m\u001b[1;33m\u001b[0m\u001b[0m\n\u001b[0;32m   2468\u001b[0m \u001b[1;33m\u001b[0m\u001b[0m\n\u001b[1;32m-> 2469\u001b[1;33m     \u001b[0mavg\u001b[0m\u001b[1;33m,\u001b[0m \u001b[0mw_sum\u001b[0m \u001b[1;33m=\u001b[0m \u001b[0maverage\u001b[0m\u001b[1;33m(\u001b[0m\u001b[0mX\u001b[0m\u001b[1;33m,\u001b[0m \u001b[0maxis\u001b[0m\u001b[1;33m=\u001b[0m\u001b[1;36m1\u001b[0m\u001b[1;33m,\u001b[0m \u001b[0mweights\u001b[0m\u001b[1;33m=\u001b[0m\u001b[0mw\u001b[0m\u001b[1;33m,\u001b[0m \u001b[0mreturned\u001b[0m\u001b[1;33m=\u001b[0m\u001b[1;32mTrue\u001b[0m\u001b[1;33m)\u001b[0m\u001b[1;33m\u001b[0m\u001b[1;33m\u001b[0m\u001b[0m\n\u001b[0m\u001b[0;32m   2470\u001b[0m     \u001b[0mw_sum\u001b[0m \u001b[1;33m=\u001b[0m \u001b[0mw_sum\u001b[0m\u001b[1;33m[\u001b[0m\u001b[1;36m0\u001b[0m\u001b[1;33m]\u001b[0m\u001b[1;33m\u001b[0m\u001b[1;33m\u001b[0m\u001b[0m\n\u001b[0;32m   2471\u001b[0m \u001b[1;33m\u001b[0m\u001b[0m\n",
      "\u001b[1;32m<__array_function__ internals>\u001b[0m in \u001b[0;36maverage\u001b[1;34m(*args, **kwargs)\u001b[0m\n",
      "\u001b[1;32m~\\anaconda3\\lib\\site-packages\\numpy\\lib\\function_base.py\u001b[0m in \u001b[0;36maverage\u001b[1;34m(a, axis, weights, returned)\u001b[0m\n\u001b[0;32m    413\u001b[0m \u001b[1;33m\u001b[0m\u001b[0m\n\u001b[0;32m    414\u001b[0m     \u001b[1;32mif\u001b[0m \u001b[0mreturned\u001b[0m\u001b[1;33m:\u001b[0m\u001b[1;33m\u001b[0m\u001b[1;33m\u001b[0m\u001b[0m\n\u001b[1;32m--> 415\u001b[1;33m         \u001b[1;32mif\u001b[0m \u001b[0mscl\u001b[0m\u001b[1;33m.\u001b[0m\u001b[0mshape\u001b[0m \u001b[1;33m!=\u001b[0m \u001b[0mavg\u001b[0m\u001b[1;33m.\u001b[0m\u001b[0mshape\u001b[0m\u001b[1;33m:\u001b[0m\u001b[1;33m\u001b[0m\u001b[1;33m\u001b[0m\u001b[0m\n\u001b[0m\u001b[0;32m    416\u001b[0m             \u001b[0mscl\u001b[0m \u001b[1;33m=\u001b[0m \u001b[0mnp\u001b[0m\u001b[1;33m.\u001b[0m\u001b[0mbroadcast_to\u001b[0m\u001b[1;33m(\u001b[0m\u001b[0mscl\u001b[0m\u001b[1;33m,\u001b[0m \u001b[0mavg\u001b[0m\u001b[1;33m.\u001b[0m\u001b[0mshape\u001b[0m\u001b[1;33m)\u001b[0m\u001b[1;33m.\u001b[0m\u001b[0mcopy\u001b[0m\u001b[1;33m(\u001b[0m\u001b[1;33m)\u001b[0m\u001b[1;33m\u001b[0m\u001b[1;33m\u001b[0m\u001b[0m\n\u001b[0;32m    417\u001b[0m         \u001b[1;32mreturn\u001b[0m \u001b[0mavg\u001b[0m\u001b[1;33m,\u001b[0m \u001b[0mscl\u001b[0m\u001b[1;33m\u001b[0m\u001b[1;33m\u001b[0m\u001b[0m\n",
      "\u001b[1;31mAttributeError\u001b[0m: 'float' object has no attribute 'shape'"
     ]
    },
    {
     "data": {
      "image/png": "[encoded data removed]",
      "text/plain": [
       "<Figure size 432x288 with 1 Axes>"
      ]
     },
     "metadata": {
      "needs_background": "light"
     },
     "output_type": "display_data"
    }
   ],
   "source": [
    "#linear agression function\n",
    "north_latitude=northern_hem[\"Lattitude\"]\n",
    "northern_temp=northern_hem[\"Max Temperature\"]\n",
    "\n",
    "plt.scatter(north_latitude, northern_temp)\n",
    "\n",
    "slope, intercept, r, p, std_err = st.linregress(north_latitude, northern_temp)\n",
    "fit = slope * north_latitude + intercept\n",
    "plt.plot(north_latitude,fit,\"--\")\n",
    "\n",
    "plt.xlabel(\"Latitude\")\n",
    "plt.ylabel(\"Humidity\")\n",
    "plt.title(\"Northern Hemisphere - Humidity vs. Latitude Linear Regression\")\n",
    "\n",
    "plt.show()\n",
    "#annotation function\n",
    "# annotate(equation, 0, 0)\n",
    "\n",
    "#labels\n",
    "# plt.title(\"Northern Hemisphere - Max Temp vs. Latitude Linear Regression\")\n",
    "# plt.xlabel(\"Latitude\")\n",
    "# plt.ylabel(\"Max Temp (F)\")\n",
    "# plt.savefig(\"../Images/Northern Hemisphere - Max Temp vs. Latitude Linear Regression.png\")"
   ]
  },
  {
   "cell_type": "markdown",
   "metadata": {},
   "source": [
    "####  Southern Hemisphere - Max Temp vs. Latitude Linear Regression"
   ]
  },
  {
   "cell_type": "code",
   "execution_count": 35,
   "metadata": {},
   "outputs": [
    {
     "ename": "NameError",
     "evalue": "name 'st' is not defined",
     "output_type": "error",
     "traceback": [
      "\u001b[1;31m---------------------------------------------------------------------------\u001b[0m",
      "\u001b[1;31mNameError\u001b[0m                                 Traceback (most recent call last)",
      "\u001b[1;32m<ipython-input-35-e4629d800dff>\u001b[0m in \u001b[0;36m<module>\u001b[1;34m\u001b[0m\n\u001b[0;32m      1\u001b[0m \u001b[1;31m#linear agression function\u001b[0m\u001b[1;33m\u001b[0m\u001b[1;33m\u001b[0m\u001b[1;33m\u001b[0m\u001b[0m\n\u001b[1;32m----> 2\u001b[1;33m \u001b[0mequation\u001b[0m \u001b[1;33m=\u001b[0m \u001b[0mlinear_agression\u001b[0m\u001b[1;33m(\u001b[0m\u001b[0mnorthern_hem\u001b[0m\u001b[1;33m[\u001b[0m\u001b[1;34m\"Lattitude\"\u001b[0m\u001b[1;33m]\u001b[0m\u001b[1;33m,\u001b[0m \u001b[0mnorthern_hem\u001b[0m\u001b[1;33m[\u001b[0m\u001b[1;34m\"Max Temperature\"\u001b[0m\u001b[1;33m]\u001b[0m\u001b[1;33m)\u001b[0m\u001b[1;33m\u001b[0m\u001b[1;33m\u001b[0m\u001b[0m\n\u001b[0m\u001b[0;32m      3\u001b[0m \u001b[1;33m\u001b[0m\u001b[0m\n\u001b[0;32m      4\u001b[0m \u001b[1;31m#annotation function\u001b[0m\u001b[1;33m\u001b[0m\u001b[1;33m\u001b[0m\u001b[1;33m\u001b[0m\u001b[0m\n\u001b[0;32m      5\u001b[0m \u001b[0mannotate\u001b[0m\u001b[1;33m(\u001b[0m\u001b[0mequation\u001b[0m\u001b[1;33m,\u001b[0m \u001b[1;36m0\u001b[0m\u001b[1;33m,\u001b[0m \u001b[1;36m0\u001b[0m\u001b[1;33m)\u001b[0m\u001b[1;33m\u001b[0m\u001b[1;33m\u001b[0m\u001b[0m\n",
      "\u001b[1;32m<ipython-input-34-f406f9fb3710>\u001b[0m in \u001b[0;36mlinear_agression\u001b[1;34m(x, y)\u001b[0m\n\u001b[0;32m      1\u001b[0m \u001b[1;31m#create function for linear regression data\u001b[0m\u001b[1;33m\u001b[0m\u001b[1;33m\u001b[0m\u001b[1;33m\u001b[0m\u001b[0m\n\u001b[0;32m      2\u001b[0m \u001b[1;32mdef\u001b[0m \u001b[0mlinear_agression\u001b[0m\u001b[1;33m(\u001b[0m\u001b[0mx\u001b[0m\u001b[1;33m,\u001b[0m\u001b[0my\u001b[0m\u001b[1;33m)\u001b[0m\u001b[1;33m:\u001b[0m\u001b[1;33m\u001b[0m\u001b[1;33m\u001b[0m\u001b[0m\n\u001b[1;32m----> 3\u001b[1;33m     \u001b[0mprint\u001b[0m\u001b[1;33m(\u001b[0m\u001b[1;34mf\"The r-squared is : {round(st.pearsonr(x, y)[0],2)}\"\u001b[0m\u001b[1;33m)\u001b[0m\u001b[1;33m\u001b[0m\u001b[1;33m\u001b[0m\u001b[0m\n\u001b[0m\u001b[0;32m      4\u001b[0m     \u001b[1;33m(\u001b[0m\u001b[0mslope\u001b[0m\u001b[1;33m,\u001b[0m \u001b[0mintercept\u001b[0m\u001b[1;33m,\u001b[0m \u001b[0mrvalue\u001b[0m\u001b[1;33m,\u001b[0m \u001b[0mpvalue\u001b[0m\u001b[1;33m,\u001b[0m \u001b[0mstderr\u001b[0m\u001b[1;33m)\u001b[0m \u001b[1;33m=\u001b[0m \u001b[0mlinregress\u001b[0m\u001b[1;33m(\u001b[0m\u001b[0mx\u001b[0m\u001b[1;33m,\u001b[0m \u001b[0my\u001b[0m\u001b[1;33m)\u001b[0m\u001b[1;33m\u001b[0m\u001b[1;33m\u001b[0m\u001b[0m\n\u001b[0;32m      5\u001b[0m     \u001b[0mregress_values\u001b[0m \u001b[1;33m=\u001b[0m \u001b[0mx\u001b[0m \u001b[1;33m*\u001b[0m \u001b[0mslope\u001b[0m \u001b[1;33m+\u001b[0m \u001b[0mintercept\u001b[0m\u001b[1;33m\u001b[0m\u001b[1;33m\u001b[0m\u001b[0m\n",
      "\u001b[1;31mNameError\u001b[0m: name 'st' is not defined"
     ]
    }
   ],
   "source": []
  },
  {
   "cell_type": "markdown",
   "metadata": {},
   "source": [
    "####  Northern Hemisphere - Humidity (%) vs. Latitude Linear Regression"
   ]
  },
  {
   "cell_type": "code",
   "execution_count": 27,
   "metadata": {},
   "outputs": [
    {
     "name": "stdout",
     "output_type": "stream",
     "text": [
      "The r-value is: 0.000543987878808455\n"
     ]
    },
    {
     "data": {
      "image/png": "[encoded data removed]",
      "text/plain": [
       "<Figure size 432x288 with 1 Axes>"
      ]
     },
     "metadata": {
      "needs_background": "light"
     },
     "output_type": "display_data"
    }
   ],
   "source": []
  },
  {
   "cell_type": "markdown",
   "metadata": {},
   "source": [
    "####  Southern Hemisphere - Humidity (%) vs. Latitude Linear Regression"
   ]
  },
  {
   "cell_type": "code",
   "execution_count": 28,
   "metadata": {},
   "outputs": [
    {
     "name": "stdout",
     "output_type": "stream",
     "text": [
      "The r-value is: 0.014985174297345524\n"
     ]
    },
    {
     "data": {
      "image/png": "[encoded data removed]",
      "text/plain": [
       "<Figure size 432x288 with 1 Axes>"
      ]
     },
     "metadata": {
      "needs_background": "light"
     },
     "output_type": "display_data"
    }
   ],
   "source": []
  },
  {
   "cell_type": "markdown",
   "metadata": {},
   "source": [
    "####  Northern Hemisphere - Cloudiness (%) vs. Latitude Linear Regression"
   ]
  },
  {
   "cell_type": "code",
   "execution_count": 29,
   "metadata": {},
   "outputs": [
    {
     "name": "stdout",
     "output_type": "stream",
     "text": [
      "The r-value is: 0.0020898727664228514\n"
     ]
    },
    {
     "data": {
      "image/png": "[encoded data removed]",
      "text/plain": [
       "<Figure size 432x288 with 1 Axes>"
      ]
     },
     "metadata": {
      "needs_background": "light"
     },
     "output_type": "display_data"
    }
   ],
   "source": []
  },
  {
   "cell_type": "markdown",
   "metadata": {},
   "source": [
    "####  Southern Hemisphere - Cloudiness (%) vs. Latitude Linear Regression"
   ]
  },
  {
   "cell_type": "code",
   "execution_count": 30,
   "metadata": {},
   "outputs": [
    {
     "name": "stdout",
     "output_type": "stream",
     "text": [
      "The r-value is: 0.0035263772085582894\n"
     ]
    },
    {
     "data": {
      "image/png": "[encoded data removed]",
      "text/plain": [
       "<Figure size 432x288 with 1 Axes>"
      ]
     },
     "metadata": {
      "needs_background": "light"
     },
     "output_type": "display_data"
    }
   ],
   "source": []
  },
  {
   "cell_type": "markdown",
   "metadata": {},
   "source": [
    "####  Northern Hemisphere - Wind Speed (mph) vs. Latitude Linear Regression"
   ]
  },
  {
   "cell_type": "code",
   "execution_count": 31,
   "metadata": {},
   "outputs": [
    {
     "name": "stdout",
     "output_type": "stream",
     "text": [
      "The r-value is: 0.04019723576144484\n"
     ]
    },
    {
     "data": {
      "image/png": "[encoded data removed]",
      "text/plain": [
       "<Figure size 432x288 with 1 Axes>"
      ]
     },
     "metadata": {
      "needs_background": "light"
     },
     "output_type": "display_data"
    }
   ],
   "source": []
  },
  {
   "cell_type": "markdown",
   "metadata": {},
   "source": [
    "####  Southern Hemisphere - Wind Speed (mph) vs. Latitude Linear Regression"
   ]
  },
  {
   "cell_type": "code",
   "execution_count": 32,
   "metadata": {},
   "outputs": [
    {
     "name": "stdout",
     "output_type": "stream",
     "text": [
      "The r-value is: 0.017128274759839232\n"
     ]
    },
    {
     "data": {
      "image/png": "[encoded data removed]",
      "text/plain": [
       "<Figure size 432x288 with 1 Axes>"
      ]
     },
     "metadata": {
      "needs_background": "light"
     },
     "output_type": "display_data"
    }
   ],
   "source": []
  },
  {
   "cell_type": "code",
   "execution_count": null,
   "metadata": {},
   "outputs": [],
   "source": []
  }
 ],
 "metadata": {
  "anaconda-cloud": {},
  "kernel_info": {
   "name": "python3"
  },
  "kernelspec": {
   "display_name": "Python 3",
   "language": "python",
   "name": "python3"
  },
  "language_info": {
   "codemirror_mode": {
    "name": "ipython",
    "version": 3
   },
   "file_extension": ".py",
   "mimetype": "text/x-python",
   "name": "python",
   "nbconvert_exporter": "python",
   "pygments_lexer": "ipython3",
   "version": "3.8.8"
  },
  "latex_envs": {
   "LaTeX_envs_menu_present": true,
   "autoclose": false,
   "autocomplete": true,
   "bibliofile": "biblio.bib",
   "cite_by": "apalike",
   "current_citInitial": 1,
   "eqLabelWithNumbers": true,
   "eqNumInitial": 1,
   "hotkeys": {
    "equation": "Ctrl-E",
    "itemize": "Ctrl-I"
   },
   "labels_anchors": false,
   "latex_user_defs": false,
   "report_style_numbering": false,
   "user_envs_cfg": false
  },
  "nteract": {
   "version": "0.12.3"
  }
 },
 "nbformat": 4,
 "nbformat_minor": 2
}
